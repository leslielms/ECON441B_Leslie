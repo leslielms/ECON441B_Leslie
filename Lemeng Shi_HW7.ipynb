{
 "cells": [
  {
   "cell_type": "code",
   "execution_count": 68,
   "metadata": {
    "id": "Q2A8TGhKm3i5"
   },
   "outputs": [],
   "source": [
    "import openai\n",
    "import os\n",
    "import wikipedia"
   ]
  },
  {
   "cell_type": "markdown",
   "metadata": {
    "id": "7E9HEMJSX-3T"
   },
   "source": [
    "# 1.) Set up OpenAI and the enviornment\n"
   ]
  },
  {
   "cell_type": "code",
   "execution_count": 90,
   "metadata": {
    "id": "8IiKS0snlpYP"
   },
   "outputs": [],
   "source": [
    "openai.api_key = ''"
   ]
  },
  {
   "cell_type": "code",
   "execution_count": 91,
   "metadata": {},
   "outputs": [],
   "source": [
    "client = openai.OpenAI(\n",
    "    api_key = openai.api_key \n",
    ")"
   ]
  },
  {
   "cell_type": "markdown",
   "metadata": {
    "id": "tOXc5_BTm9HP"
   },
   "source": [
    "# 2.) Use the wikipedia api to get a function that pulls in the text of a wikipedia page"
   ]
  },
  {
   "cell_type": "code",
   "execution_count": 93,
   "metadata": {},
   "outputs": [],
   "source": [
    "page_titles = [\"Artificial Intelligence\",\"Machine Learning\"]\n",
    "page_title = page_titles[0]"
   ]
  },
  {
   "cell_type": "code",
   "execution_count": 94,
   "metadata": {
    "id": "TgY2FkTdmhTH"
   },
   "outputs": [],
   "source": [
    "search_results = wikipedia.search(page_title)"
   ]
  },
  {
   "cell_type": "code",
   "execution_count": 95,
   "metadata": {
    "id": "Kw5H5jMlmmS3"
   },
   "outputs": [],
   "source": [
    "search_results\n",
    "search_results[0]\n",
    "page = wikipedia.page(search_results[0]) # wikipedia page object"
   ]
  },
  {
   "cell_type": "code",
   "execution_count": 97,
   "metadata": {
    "id": "Ef7yfa2jl0iZ"
   },
   "outputs": [],
   "source": [
    "def get_wikipedia_content(page_title):\n",
    "    search_results = wikipedia.search(page_title)\n",
    "    page = wikipedia.page(search_results[0])\n",
    "    return(page.content)"
   ]
  },
  {
   "cell_type": "markdown",
   "metadata": {
    "id": "_9aruncMmubX"
   },
   "source": [
    "# 3.) Build a chatgpt bot that will analyze the text given and try to locate any false info"
   ]
  },
  {
   "cell_type": "code",
   "execution_count": 98,
   "metadata": {},
   "outputs": [],
   "source": [
    "content = get_wikipedia_content(page_title)"
   ]
  },
  {
   "cell_type": "code",
   "execution_count": 102,
   "metadata": {
    "id": "Bmai3B6Dmw3O"
   },
   "outputs": [],
   "source": [
    "chat_completion = client.chat.completions.create(\n",
    "    model = \"gpt-4\", \n",
    "    messages = [{\"role\":\"system\",\"content\" : \"You are a summary assistant at wikipedia, i will pass you an article and please tell me if any of the information is false \"},\n",
    "               {\"role\":\"user\",\"content\" : content[:8192]}]\n",
    ")"
   ]
  },
  {
   "cell_type": "code",
   "execution_count": 103,
   "metadata": {
    "id": "1jI-un5PnDjg"
   },
   "outputs": [
    {
     "name": "stdout",
     "output_type": "stream",
     "text": [
      "1. \"Alan Turing was the first person to conduct substantial research in the field that he called machine intelligence.\" - This is false. While Alan Turing was a pioneer in the field of artificial intelligence, calling him the 'first person' may not be accurate since AI, as a concept, had intuitive precursors, and similar thoughts were shared simultaneously by other researchers.  \n",
      "\n",
      "2. \"Artificial intelligence was founded as an academic discipline in 1956.\" - Artificial Intelligence as a term was coined in 1956 at the Dartmouth Conference, but work that would come under the umbrella of AI had been going on before this date.\n",
      "\n",
      "3. \"This led to the AI spring of the early 2020s, with companies, universities, and laboratories overwhelmingly based in the United States pioneering significant advances in artificial intelligence.\" - This implies that significant AI advances were exclusively or majorly from the United States. However, significant contributions have also come from other regions such as Europe, Canada, and Asia.\n",
      "\n",
      "4. \"Knowledge bases need to represent things such as: objects, properties, categories and relations between objects; situations, events, states and time; causes and effects;...\" - The list is not framed accurately. The concepts mentioned (such as objects, properties, situations etc.) do not factually represent the scope of what knowledge bases need to entail. They should rather be considered as examples.\n",
      " \n",
      "5. \"A Markov decision process has a transition model that describes the probability that a particular action will change the state in a particular way, and a reward function that supplies the utility of each state and the cost of each action.\" - While the description of the transition model in a Markov Decision Process (MDP) is correct, the reward function in an MDP does not supply the utility of each state or the cost of each action. Instead, it provides an immediate reward for each state-action pair.\n"
     ]
    }
   ],
   "source": [
    "print(chat_completion.choices[0].message.content)"
   ]
  },
  {
   "cell_type": "code",
   "execution_count": 144,
   "metadata": {
    "id": "_TMKFGN4nDJ4"
   },
   "outputs": [],
   "source": [
    "def chatgpt_error_correction(text):\n",
    "    chat_completion = client.chat.completions.create(\n",
    "    model = \"gpt-4\", \n",
    "    messages = [{\"role\":\"system\",\"content\" : \"I will be giving you an article, let me know if anything is flase in this article. If there is errors please number them and be very concise when quoting them, please stay low sensitive and try you best to find the error, at least find one.If there is no errors found then just return 'None' \"},\n",
    "               {\"role\":\"user\",\"content\" : text[:8192]}]\n",
    ")\n",
    "    return chat_completion.choices[0].message.content"
   ]
  },
  {
   "cell_type": "markdown",
   "metadata": {
    "id": "zPw5LyPEobmk"
   },
   "source": [
    "# 4.) Make a for loop and check a few wikipedia pages and return a report of any potentially false info via wikipedia"
   ]
  },
  {
   "cell_type": "code",
   "execution_count": 145,
   "metadata": {
    "id": "V7cuhML2ocGn"
   },
   "outputs": [],
   "source": [
    "page_titles = [\"Artificial Intelligence\",\"Machine learning\",\"UCLA\"]"
   ]
  },
  {
   "cell_type": "code",
   "execution_count": 147,
   "metadata": {},
   "outputs": [
    {
     "name": "stdout",
     "output_type": "stream",
     "text": [
      "_____Artificial Intelligence\n",
      "1. \"AI technology is widely used throughout industry, government, and science.\" - This sentence is a broad assumption, AI technology isn't used throughout industries, governments, or sciences, but it has significant usage in these sectors. \n",
      "2. \"Alan Turing was the first person to conduct substantial research in the field that he called machine intelligence.\" - This statement is false. Alan Turing was a pioneering figure in AI but not the first to conduct substantial research in this field. \n",
      "3. \"Artificial intelligence was founded as an academic discipline in 1956.\" - This statement is not entirely accurate. The term 'artificial intelligence' was coined in 1956, but it was studied as a discipline before that under different names.\n",
      "4. \"This led to the AI spring of the early 2020s, with companies, universities, and laboratories overwhelmingly based in the United States pioneering significant advances in artificial intelligence.\" - It falsely implies that only organizations based in the United States are pioneering AI advances. AI research and advances happen worldwide.\n",
      "5. \"General intelligence (the ability to complete any task performable by a human) is among the field's long-term goals.\" - Misrepresentation of General Intelligence. General intelligence refers to the ability to understand, learn and apply knowledge across a variety of tasks, not necessarily \"any task performable by a human.\" \n",
      "6. \"In classical planning, the agent knows exactly what the effect of any action will be.\" - This statement is inaccurate because in an artificial system, an agent can't always predict the exact outcome because of the inherent uncertainties and dynamic complexities.\n",
      "7. \"Machine learning is the study of programs that can improve their performance on a given task automatically.\" - Inaccuracy in the definition of Machine Learning. It is actually a method of data analysis that automates analytical model building.\n",
      "_____Machine learning\n",
      "ERROR\n",
      "_____UCLA\n",
      "1. \"Its academic roots were established in 1881 as a normal school then known as the southern branch of the California State Normal School.\" - The branches established in 1881 did not immediately include the southern branch of the California State Normal School that would eventually become UCLA.\n",
      "\n",
      "2. \"UCLA offers 337 undergraduate and graduate degree programs.\" - As of 2021, UCLA offers over 125 majors plus 90 minors and more than 100 fields of graduate study. The number 337 does not match the official UCLA records.\n",
      "\n",
      "3. \"They have won 121 NCAA team championships, second only to Stanford University's 128 team titles.\" - As of 2021, UCLA has won 119 NCAA championships, not 121. Stanford University has won 126, not 128.\n",
      "\n",
      "4. \"The facility included a demonstration school where teachers-in-training could practice their techniques with children. That elementary school would become the present day UCLA Lab School.\" - The UCLA Lab School was not initially part of the training sites for teachers-in-training as the text suggests.\n",
      "\n",
      "5. \"On February 1, 1927, the Regents renamed the Southern Branch the University of California at Los Angeles.\" - The date is not wrong, but the name is wrong. The name was changed to \"University of California, Los Angeles,\" not \"at Los Angeles.\"\n",
      "\n",
      "6. \"In 2022, UCLA signed an agreement to partner with the Tongva for the caretaking and landscaping of various areas of the campus.\" - As of now, there is no public documentation or report on UCLA signing an agreement with the Tongva in 2022 for caretaking and landscaping on the campus.\n",
      "\n",
      "7. \"In February 2022, Matthew Harris, a former lecturer and postdoctoral fellow at UCLA, was arrested after allegedly making numerous threats of violence against students and faculty members of UCLA's Philosophy Department.\" - As of now, there is no public documentation or report on a former UCLA lecturer named Matthew Harris being arrested for making threats of violence in February 2022.\n"
     ]
    }
   ],
   "source": [
    "for page_title in page_titles:\n",
    "    print(\"_____\" + page_title)\n",
    "    try:\n",
    "        text = get_wikipedia_content(page_title) \n",
    "        print(chatgpt_error_correction(text))\n",
    "    except:\n",
    "        print(\"ERROR\")"
   ]
  }
 ],
 "metadata": {
  "colab": {
   "provenance": []
  },
  "kernelspec": {
   "display_name": "Python 3 (ipykernel)",
   "language": "python",
   "name": "python3"
  },
  "language_info": {
   "codemirror_mode": {
    "name": "ipython",
    "version": 3
   },
   "file_extension": ".py",
   "mimetype": "text/x-python",
   "name": "python",
   "nbconvert_exporter": "python",
   "pygments_lexer": "ipython3",
   "version": "3.11.4"
  }
 },
 "nbformat": 4,
 "nbformat_minor": 1
}
